{
 "cells": [
  {
   "cell_type": "code",
   "execution_count": 47,
   "metadata": {},
   "outputs": [
    {
     "data": {
      "image/png": "[encoded data removed]",
      "text/plain": [
       "<Figure size 432x288 with 4 Axes>"
      ]
     },
     "metadata": {
      "needs_background": "light"
     },
     "output_type": "display_data"
    }
   ],
   "source": [
    "import matplotlib.pyplot as plt\n",
    "from matplotlib.widgets import Slider\n",
    "import numpy as np\n",
    "\n",
    "\n",
    "#plt.subplots_adjust(bottom=0.25) \n",
    "\n",
    "x = np.linspace(0, 20, 1000)\n",
    "p1 = np.sin(x)\n",
    "p2 = np.cos(x)\n",
    "p3 = np.cos(x)\n",
    "\n",
    "\n",
    "\n",
    "ax1 = plt.subplot(311)\n",
    "ax2 = plt.subplot(312)\n",
    "ax3 = plt.subplot(313)\n",
    "\n",
    "\n",
    "plt.subplots_adjust(bottom=0.25)\n",
    "\n",
    "ax1.plot(x, p1)\n",
    "ax2.plot(x, p2)\n",
    "ax3.plot(x, p3)\n",
    "ax = [ax1, ax2, ax3]\n",
    "\n",
    "for a in ax:\n",
    "    a.axis([0, 4, -1, 1])\n",
    "    plt.xlabel('x')\n",
    "\n",
    "axcolor = 'lightgoldenrodyellow'\n",
    "axpos = plt.axes([0.2, 0.1, 0.65, 0.03], facecolor=axcolor) \n",
    "spos = Slider(axpos, 'Time slider', x[0], x[-1])\n",
    "def update(val): \n",
    "    pos = spos.val \n",
    "    ax.axis([pos, pos+5, 0, 0.5]) \n",
    "    fig.canvas.draw_idle() \n",
    "spos.on_changed(update) \n",
    "\n",
    "plt.show()"
   ]
  },
  {
   "cell_type": "code",
   "execution_count": 59,
   "metadata": {},
   "outputs": [
    {
     "name": "stdout",
     "output_type": "stream",
     "text": [
      "5\n",
      "5\n",
      "5\n",
      "[1, 2, 3]\n",
      "deque([4, 4])\n"
     ]
    }
   ],
   "source": [
    "\n",
    "import queue\n",
    "\n",
    "g = queue.Queue(maxsize=0)\n",
    "g.put(5)\n",
    "g.put([1, 2, 3])\n",
    "g.put(4)\n",
    "print(g.queue[0])\n",
    "g.put(4)\n",
    "print(g.queue[0])\n",
    "print(g.get())\n",
    "print(g.get())\n",
    "print(g.queue)\n"
   ]
  },
  {
   "cell_type": "code",
   "execution_count": 27,
   "metadata": {},
   "outputs": [
    {
     "name": "stdout",
     "output_type": "stream",
     "text": [
      "0.1881389617919922\n",
      "0.12923598289489746\n"
     ]
    }
   ],
   "source": [
    "data1 = (1, 2, 3, 4, 5, 6, 7)\n",
    "# How do you unpack a list in something that returns a slice: g[list]\n",
    "\n",
    "data2 = {'flex': [2, 3, 4], 'press': [1, 5, 6, 7]}\n",
    "\n",
    "\n",
    "import time\n",
    "xlist = []\n",
    "time0 = time.time()\n",
    "for i in range(1000000):\n",
    "    x = data1[:3]\n",
    "    y = data1[3:]\n",
    "    xlist.append(data1)\n",
    "print(time.time() - time0)\n",
    "\n",
    "xdictlist = []\n",
    "time0 = time.time()\n",
    "for i in range(1000000):\n",
    "    x = data2['flex']\n",
    "    y = data2['press']\n",
    "    xdictlist.append(data2) \n",
    "    \n",
    "print(time.time() - time0)\n"
   ]
  },
  {
   "cell_type": "code",
   "execution_count": 31,
   "metadata": {},
   "outputs": [
    {
     "name": "stdout",
     "output_type": "stream",
     "text": [
      "8448728\n",
      "44000049\n"
     ]
    }
   ],
   "source": [
    "import sys\n",
    "import json\n",
    "print(sys.getsizeof(xlist))\n",
    "print(sys.getsizeof(json.dumps(xdictlist)))\n"
   ]
  },
  {
   "cell_type": "code",
   "execution_count": 35,
   "metadata": {},
   "outputs": [],
   "source": [
    "from sys import getsizeof, stderr\n",
    "from itertools import chain\n",
    "from collections import deque\n",
    "\n",
    "def total_size(o, handlers={}, verbose=False):\n",
    "    \"\"\" Returns the approximate memory footprint an object and all of its contents.\n",
    "\n",
    "    Automatically finds the contents of the following builtin containers and\n",
    "    their subclasses:  tuple, list, deque, dict, set and frozenset.\n",
    "    To search other containers, add handlers to iterate over their contents:\n",
    "\n",
    "        handlers = {SomeContainerClass: iter,\n",
    "                    OtherContainerClass: OtherContainerClass.get_elements}\n",
    "\n",
    "    \"\"\"\n",
    "    dict_handler = lambda d: chain.from_iterable(d.items())\n",
    "    all_handlers = {tuple: iter,\n",
    "                    list: iter,\n",
    "                    deque: iter,\n",
    "                    dict: dict_handler,\n",
    "                    set: iter,\n",
    "                    frozenset: iter,\n",
    "                   }\n",
    "    all_handlers.update(handlers)     # user handlers take precedence\n",
    "    seen = set()                      # track which object id's have already been seen\n",
    "    default_size = getsizeof(0)       # estimate sizeof object without __sizeof__\n",
    "\n",
    "    def sizeof(o):\n",
    "        if id(o) in seen:       # do not double count the same object\n",
    "            return 0\n",
    "        seen.add(id(o))\n",
    "        s = getsizeof(o, default_size)\n",
    "\n",
    "        if verbose:\n",
    "            print(s, type(o), repr(o), file=stderr)\n",
    "\n",
    "        for typ, handler in all_handlers.items():\n",
    "            if isinstance(o, typ):\n",
    "                s += sum(map(sizeof, handler(o)))\n",
    "                break\n",
    "        return s\n",
    "\n",
    "    return sizeof(o)\n"
   ]
  },
  {
   "cell_type": "code",
   "execution_count": 2,
   "metadata": {},
   "outputs": [
    {
     "data": {
      "text/plain": [
       "['imu', 'press']"
      ]
     },
     "execution_count": 2,
     "metadata": {},
     "output_type": "execute_result"
    }
   ],
   "source": [
    "possible_keys = ['timestamp', 'imu', 'flex', 'press']\n",
    "g = ['press', 'imu']\n",
    "\n",
    "included_sensors = [key for key in possible_keys if key in g]\n",
    "included_sensors"
   ]
  }
 ],
 "metadata": {
  "kernelspec": {
   "display_name": "Python 3",
   "language": "python",
   "name": "python3"
  },
  "language_info": {
   "codemirror_mode": {
    "name": "ipython",
    "version": 3
   },
   "file_extension": ".py",
   "mimetype": "text/x-python",
   "name": "python",
   "nbconvert_exporter": "python",
   "pygments_lexer": "ipython3",
   "version": "3.9.13"
  }
 },
 "nbformat": 4,
 "nbformat_minor": 2
}
