{
 "cells": [
  {
   "cell_type": "code",
   "execution_count": 1,
   "metadata": {},
   "outputs": [],
   "source": [
    "import os,sys,inspect\n",
    "current_dir = os.path.dirname(os.path.abspath(inspect.getfile(inspect.currentframe())))\n",
    "parent_dir = os.path.dirname(current_dir)\n",
    "sys.path.insert(0, parent_dir) \n",
    "\n",
    "from __init__ import *\n",
    "import mido\n",
    "import time\n",
    "import numpy as np\n",
    "from notemidi import TrigNote, PitchBend, Aftertouch, stop\n",
    "rtmidi = mido.Backend('mido.backends.rtmidi')\n",
    "output = rtmidi.open_output(IACDriver)"
   ]
  },
  {
   "cell_type": "code",
   "execution_count": 24,
   "metadata": {},
   "outputs": [
    {
     "name": "stdout",
     "output_type": "stream",
     "text": [
      "C3\n",
      "C3\n"
     ]
    }
   ],
   "source": [
    "TrigNote('C3', 60)\n",
    "PitchBend(-1000)\n",
    "time.sleep(1)\n",
    "TrigNote('C3', 0)"
   ]
  },
  {
   "cell_type": "code",
   "execution_count": 25,
   "metadata": {},
   "outputs": [
    {
     "name": "stdout",
     "output_type": "stream",
     "text": [
      "C3\n",
      "C3\n"
     ]
    }
   ],
   "source": [
    "# Pitch Bend\n",
    "\n",
    "TrigNote('C3', 60)\n",
    "tt = np.linspace(0, 10, 1000)\n",
    "A = 8000\n",
    "p = A * np.sin(1*tt)\n",
    "p = p.astype('int')\n",
    "for idx, pitch in enumerate(p):\n",
    "    time.sleep(0.001)\n",
    "    PitchBend(pitch)\n",
    "TrigNote('C3', 0)"
   ]
  },
  {
   "cell_type": "code",
   "execution_count": 36,
   "metadata": {},
   "outputs": [
    {
     "name": "stdout",
     "output_type": "stream",
     "text": [
      "C3\n",
      "C3\n"
     ]
    }
   ],
   "source": [
    "TrigNote('C3', 60)\n",
    "time.sleep(1)\n",
    "Aftertouch('C3', 20)\n",
    "time.sleep(1)\n",
    "Aftertouch('C3', 70)\n",
    "time.sleep(1)\n",
    "Aftertouch('C3', 100)\n",
    "\n",
    "\n",
    "TrigNote('C3', 0)"
   ]
  },
  {
   "cell_type": "code",
   "execution_count": 22,
   "metadata": {},
   "outputs": [],
   "source": [
    "stop() # Supposed to stop everything\n"
   ]
  },
  {
   "cell_type": "code",
   "execution_count": null,
   "metadata": {},
   "outputs": [],
   "source": []
  },
  {
   "cell_type": "code",
   "execution_count": null,
   "metadata": {},
   "outputs": [],
   "source": []
  }
 ],
 "metadata": {
  "kernelspec": {
   "display_name": "Python 3",
   "language": "python",
   "name": "python3"
  },
  "language_info": {
   "codemirror_mode": {
    "name": "ipython",
    "version": 3
   },
   "file_extension": ".py",
   "mimetype": "text/x-python",
   "name": "python",
   "nbconvert_exporter": "python",
   "pygments_lexer": "ipython3",
   "version": "3.7.1"
  }
 },
 "nbformat": 4,
 "nbformat_minor": 2
}
